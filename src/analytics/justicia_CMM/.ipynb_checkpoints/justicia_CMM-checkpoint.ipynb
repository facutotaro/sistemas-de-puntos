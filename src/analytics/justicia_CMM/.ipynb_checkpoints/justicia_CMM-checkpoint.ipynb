{
 "cells": [
  {
   "cell_type": "code",
   "execution_count": 1,
   "id": "ddb0cda2",
   "metadata": {},
   "outputs": [],
   "source": [
    "import subprocess\n",
    "import pathlib\n",
    "import pandas as pd\n",
    "import numpy as np"
   ]
  },
  {
   "cell_type": "code",
   "execution_count": 2,
   "id": "ffd7f092",
   "metadata": {},
   "outputs": [
    {
     "name": "stdout",
     "output_type": "stream",
     "text": [
      "make: Nothing to be done for 'all'.\n"
     ]
    },
    {
     "data": {
      "text/plain": [
       "CompletedProcess(args=['make'], returncode=0)"
      ]
     },
     "execution_count": 2,
     "metadata": {},
     "output_type": "execute_result"
    }
   ],
   "source": [
    "src_path = str(pathlib.Path().resolve().parents[1]) # calcula path a directorio src\n",
    "subprocess.run([\"make\"], cwd = src_path + \"/cpp\") # build del cpp"
   ]
  },
  {
   "cell_type": "markdown",
   "id": "0cad1882",
   "metadata": {},
   "source": [
    "# Experimento (1)"
   ]
  },
  {
   "cell_type": "code",
   "execution_count": 75,
   "id": "3539e119",
   "metadata": {},
   "outputs": [],
   "source": [
    "def crear_competencia(cant_participantes, cant_partidos):\n",
    "    \n",
    "    #Creo ganadores y perdedores al azar\n",
    "    ganadores = np.random.choice(cant_participantes, cant_partidos, replace = True)\n",
    "\n",
    "    perdedores = np.array([])\n",
    "\n",
    "    for g in ganadores:\n",
    "\n",
    "        perdedores = np.append(perdedores, \n",
    "                               np.random.choice(np.delete(np.arange(cant_participantes), g)))\n",
    "\n",
    "    perdedores = perdedores.astype(int)\n",
    "        \n",
    "    puntajeG = np.ones(cant_partidos, dtype = int)\n",
    "    puntajeP = np.zeros(cant_partidos, dtype = int)\n",
    "    \n",
    "    return ganadores+1, perdedores+1, puntajeG, puntajeP\n",
    "\n",
    "def escribir_tabla(file_name, cant_participantes, cant_partidos, g, p, pg, pp):\n",
    "    \n",
    "    with open(file_name,\"w\") as file:\n",
    "    \n",
    "        file.write(str(cant_participantes) + \" \" + str(cant_partidos))\n",
    "\n",
    "        for i in range(cant_partidos):\n",
    "\n",
    "            file.write(\"\\n\" + \"1 \" + str(g[i]) + \" \" + str(pg[i]) + \n",
    "                       \" \" + str(p[i]) + \" \" + str(pp[i]))"
   ]
  },
  {
   "cell_type": "code",
   "execution_count": 77,
   "id": "2b032255",
   "metadata": {},
   "outputs": [],
   "source": [
    "# Creo tablas\n",
    "cant_participantes = 6\n",
    "cant_partidos = 10\n",
    "\n",
    "# Grupo A => h = 1\n",
    "g, p, pg, pp = crear_competencia(cant_participantes, cant_partidos)\n",
    "\n",
    "# Grupo B => i = 1 + cant_participantes//2 y j = 2 + cant_participantes//2\n",
    "\n",
    "# Escribo archivo\n",
    "escribir_tabla(\"exp_1_e6_p10.in\",cant_participantes,cant_partidos,g,p,pg,pp)\n",
    "        "
   ]
  },
  {
   "cell_type": "code",
   "execution_count": 78,
   "id": "d94f3dc5",
   "metadata": {},
   "outputs": [
    {
     "data": {
      "text/plain": [
       "CompletedProcess(args=['./tp1', '/home/lucas/Desktop/MetNum/TP/metnum_tp1/src/analytics/justicia_CMM/exp_1_e6_p10.in', '/home/lucas/Desktop/MetNum/TP/metnum_tp1/src/analytics/justicia_CMM/res_1_e6_p10.out', '0'], returncode=0)"
      ]
     },
     "execution_count": 78,
     "metadata": {},
     "output_type": "execute_result"
    }
   ],
   "source": [
    "# Corre test\n",
    "local_path = str(pathlib.Path().resolve())\n",
    "tabla_path = \"/exp_1_e6_p10.in\"\n",
    "res_path = \"/res_1_e6_p10.out\"\n",
    "\n",
    "subprocess.run([\"./tp1\", local_path + tabla_path, \n",
    "                         local_path + res_path, \n",
    "                           \"0\"], \n",
    "               cwd = src_path + \"/cpp\")"
   ]
  },
  {
   "cell_type": "code",
   "execution_count": 114,
   "id": "c91b5726",
   "metadata": {},
   "outputs": [],
   "source": [
    "def leer_ranking(file_name):\n",
    "    \n",
    "    with open(file_name, \"r\") as file:\n",
    "        \n",
    "        str_out = file.read()\n",
    "        \n",
    "    out = np.array([])\n",
    "    \n",
    "    for c in range(len(str_out)):\n",
    "        \n",
    "        #leer floats\n",
    "        \n",
    "    return out"
   ]
  },
  {
   "cell_type": "code",
   "execution_count": 115,
   "id": "678f353f",
   "metadata": {},
   "outputs": [
    {
     "data": {
      "text/plain": [
       "53"
      ]
     },
     "execution_count": 115,
     "metadata": {},
     "output_type": "execute_result"
    }
   ],
   "source": [
    "leer_ranking(\"res_1_e6_p10.out\")"
   ]
  },
  {
   "cell_type": "code",
   "execution_count": null,
   "id": "269a42a2",
   "metadata": {},
   "outputs": [],
   "source": []
  }
 ],
 "metadata": {
  "kernelspec": {
   "display_name": "Python 3 (ipykernel)",
   "language": "python",
   "name": "python3"
  },
  "language_info": {
   "codemirror_mode": {
    "name": "ipython",
    "version": 3
   },
   "file_extension": ".py",
   "mimetype": "text/x-python",
   "name": "python",
   "nbconvert_exporter": "python",
   "pygments_lexer": "ipython3",
   "version": "3.8.10"
  }
 },
 "nbformat": 4,
 "nbformat_minor": 5
}
