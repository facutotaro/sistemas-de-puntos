{
 "cells": [
  {
   "cell_type": "code",
   "execution_count": 1,
   "id": "ddb0cda2",
   "metadata": {},
   "outputs": [],
   "source": [
    "import subprocess\n",
    "import pathlib\n",
    "import pandas as pd\n",
    "import numpy as np\n",
    "import matplotlib\n",
    "import matplotlib.pyplot as plt"
   ]
  },
  {
   "cell_type": "code",
   "execution_count": 2,
   "id": "ffd7f092",
   "metadata": {},
   "outputs": [
    {
     "name": "stdout",
     "output_type": "stream",
     "text": [
      "make: Nothing to be done for 'all'.\n"
     ]
    },
    {
     "data": {
      "text/plain": [
       "CompletedProcess(args=['make'], returncode=0)"
      ]
     },
     "execution_count": 2,
     "metadata": {},
     "output_type": "execute_result"
    }
   ],
   "source": [
    "src_path = str(pathlib.Path().resolve().parents[1]) # calcula path a directorio src\n",
    "subprocess.run([\"make\"], cwd = src_path + \"/cpp\") # build del cpp"
   ]
  },
  {
   "cell_type": "markdown",
   "id": "f0eafe2f",
   "metadata": {},
   "source": [
    "# Experimento (1)"
   ]
  },
  {
   "cell_type": "code",
   "execution_count": 3,
   "id": "084e6a59",
   "metadata": {},
   "outputs": [],
   "source": [
    "def crear_competencia(cant_participantes, cant_partidos):\n",
    "    # dada una cantidad de participantes y de partidos\n",
    "    # crea 4 np array:\n",
    "    # lista de ganadores de cada partido\n",
    "    # lista de perdedores de cada partido\n",
    "    # lista de 1's(puntaje de los ganadores)\n",
    "    # lista de 0's(puntaje de los perdedores)\n",
    "    \n",
    "    ganadores = np.random.choice(cant_participantes, cant_partidos, replace = True)\n",
    "\n",
    "    perdedores = np.array([])\n",
    "\n",
    "    for g in ganadores:\n",
    "\n",
    "        perdedores = np.append(perdedores, \n",
    "                               np.random.choice(np.delete(np.arange(cant_participantes), g)))\n",
    "\n",
    "    perdedores = perdedores.astype(int)\n",
    "        \n",
    "    puntajeG = np.ones(cant_partidos, dtype = int)\n",
    "    puntajeP = np.zeros(cant_partidos, dtype = int)\n",
    "    \n",
    "    return ganadores+1, perdedores+1, puntajeG, puntajeP\n",
    "\n",
    "def escribir_tabla(file_name, cant_participantes, cant_partidos, g, p, pg, pp):\n",
    "    # dada 4 listas: lista de ganadores, perdedores, \n",
    "    # puntaje ganadores y puntaje perdedores,\n",
    "    # y dado la cantidad de participantes y de partidos, junto a un nombre de archivo\n",
    "    # genera el archivo \"file_name\" con la tabla de la competencia(formato enunciado)\n",
    "    \n",
    "    with open(file_name,\"w\") as file:\n",
    "    \n",
    "        file.write(str(cant_participantes) + \" \" + str(cant_partidos))\n",
    "\n",
    "        for i in range(cant_partidos):\n",
    "\n",
    "            file.write(\"\\n\" + \"1 \" + str(g[i]) + \" \" + str(pg[i]) + \n",
    "                       \" \" + str(p[i]) + \" \" + str(pp[i]))"
   ]
  },
  {
   "cell_type": "code",
   "execution_count": 4,
   "id": "5bda0fcd",
   "metadata": {},
   "outputs": [],
   "source": [
    "def leer_ranking(file_name):\n",
    "    # Dada la direccion de un archivo con el ranking\n",
    "    # resultado de una competencia, devuelve un arreglo\n",
    "    # con el rating ordenado por numero de competidor\n",
    "    \n",
    "    with open(file_name, \"r\") as file:\n",
    "        \n",
    "        str_out = file.read()\n",
    "        \n",
    "    out = []\n",
    "    \n",
    "    word = \"\"\n",
    "    \n",
    "    for c in str_out:\n",
    "        \n",
    "        if c != \"\\n\":\n",
    "            \n",
    "            word += c\n",
    "            \n",
    "        else:\n",
    "            \n",
    "            out.append(float(word))\n",
    "            word = \"\"\n",
    "        \n",
    "    return np.array(out)"
   ]
  },
  {
   "cell_type": "code",
   "execution_count": 5,
   "id": "02e0fd02",
   "metadata": {},
   "outputs": [],
   "source": [
    "def calcular_ranking(file_in, file_out, mode = \"0\"):\n",
    "    \n",
    "    # Dado en archivo en formato tabla, procesa los datos con CMM, WP o RPI y\n",
    "    # los escribe en un archivo de salida en el directorio local\n",
    "    \n",
    "    # Corre test\n",
    "    src_path = str(pathlib.Path().resolve().parents[1]) # calcula path a directorio src\n",
    "    local_path = str(pathlib.Path().resolve()) # calcula path directorio local\n",
    "    tabla_path = \"/\" + file_in\n",
    "    res_path = \"/\" + file_out\n",
    "\n",
    "    subprocess.run([\"./tp1\", local_path + tabla_path, \n",
    "                             local_path + res_path, \n",
    "                               mode], \n",
    "                   cwd = src_path + \"/cpp\")"
   ]
  },
  {
   "cell_type": "code",
   "execution_count": 6,
   "id": "9916cce0",
   "metadata": {},
   "outputs": [],
   "source": [
    "def experimento_1(cant_participantes, cant_partidos):\n",
    "    # Dada una cantidad de participantes y partidos\n",
    "    # crea un torneo con dicha cantidad de participantes y partidos\n",
    "    # Luego simula que el Grupo A ya termino sus partidos y\n",
    "    # que se encuentran jugando los equipos del Grupo B\n",
    "    # Con esto se analiza el comportamiento de ranking (rating y posicion)\n",
    "    # de un equipo del grupo A (el que tiene indice 1 en la tabla) y\n",
    "    # devuelve una lista con el historial de ranking de dicho equipo\n",
    "\n",
    "    # Grupo A\n",
    "    gA, pA, pgA, ppA = crear_competencia(cant_participantes//2, cant_partidos//2)\n",
    "\n",
    "    # Grupo B\n",
    "    gB, pB, pgB, ppB = crear_competencia(cant_participantes//2, cant_partidos//2)\n",
    "\n",
    "    g = np.append(gA, gB+(cant_participantes//2))\n",
    "    p = np.append(pA, pB+(cant_participantes//2))\n",
    "    pg = np.append(pgA, pgB)\n",
    "    pp = np.append(ppA, ppB)\n",
    "\n",
    "    ratings_h = []\n",
    "    poss_h = []\n",
    "\n",
    "    for n_partido in range(cant_partidos//2, cant_partidos):\n",
    "\n",
    "        file_in = \"torneos/exp_1_e\"+str(cant_participantes)+\"_p\"+str(n_partido)+\".in\"\n",
    "        file_out = \"torneos/res_1_e\"+str(cant_participantes)+\"_p\"+str(n_partido)+\".out\"\n",
    "\n",
    "        # Escribo archivo\n",
    "        escribir_tabla(file_in,cant_participantes,n_partido,g,p,pg,pp)\n",
    "\n",
    "        # Calculo ranking\n",
    "        calcular_ranking(file_in,file_out)\n",
    "\n",
    "        # Leo ranking\n",
    "        res = leer_ranking(file_out)\n",
    "\n",
    "        ratings_h.append(res[0])\n",
    "        pos_h = 1\n",
    "\n",
    "        for r in res: \n",
    "\n",
    "            if r > res[0]: pos_h+=1\n",
    "\n",
    "        poss_h.append(pos_h)\n",
    "        \n",
    "    return ratings_h, poss_h"
   ]
  },
  {
   "cell_type": "markdown",
   "id": "cc978164",
   "metadata": {},
   "source": [
    "## 6 paticipantes - 12 partidos"
   ]
  },
  {
   "cell_type": "code",
   "execution_count": 7,
   "id": "d7d23dbf",
   "metadata": {},
   "outputs": [
    {
     "data": {
      "image/png": "[encoded data removed]",
      "text/plain": [
       "<Figure size 1152x288 with 2 Axes>"
      ]
     },
     "metadata": {
      "needs_background": "light"
     },
     "output_type": "display_data"
    }
   ],
   "source": [
    "np.random.seed(8)\n",
    "\n",
    "cant_participantes = 6\n",
    "cant_partidos = 12\n",
    "\n",
    "rating, pos = experimento_1(cant_participantes,cant_partidos)\n",
    "\n",
    "matplotlib.rcParams.update({'font.size': 12})\n",
    "plt.figure(figsize = (16,4))\n",
    "\n",
    "# Plot rating\n",
    "plt.subplot(1,2,1)\n",
    "plt.title(\"Rating\")\n",
    "plt.plot(rating)\n",
    "plt.xticks(list(range(cant_partidos//2)))\n",
    "plt.ylim(0,1)\n",
    "\n",
    "# Plot posicion\n",
    "plt.subplot(1,2,2)\n",
    "plt.title(\"Posicion\")\n",
    "plt.plot(pos)\n",
    "plt.xticks(list(range(cant_partidos//2)))\n",
    "plt.yticks(list(range(1,cant_participantes+1)))\n",
    "\n",
    "plt.show()"
   ]
  },
  {
   "cell_type": "markdown",
   "id": "ae9d8f0b",
   "metadata": {},
   "source": [
    "## 10 participantes - 100 partidos"
   ]
  },
  {
   "cell_type": "code",
   "execution_count": 8,
   "id": "a79a149c",
   "metadata": {},
   "outputs": [
    {
     "data": {
      "image/png": "[encoded data removed]",
      "text/plain": [
       "<Figure size 1152x288 with 2 Axes>"
      ]
     },
     "metadata": {
      "needs_background": "light"
     },
     "output_type": "display_data"
    }
   ],
   "source": [
    "cant_participantes = 10\n",
    "cant_partidos = 100\n",
    "\n",
    "rating, pos = experimento_1(cant_participantes,cant_partidos)\n",
    "\n",
    "plt.figure(figsize = (16,4))\n",
    "\n",
    "# Plot rating\n",
    "plt.subplot(1,2,1)\n",
    "plt.title(\"Rating\")\n",
    "plt.plot(rating)\n",
    "plt.ylim(0,1)\n",
    "\n",
    "# Plot posicion\n",
    "plt.subplot(1,2,2)\n",
    "plt.title(\"Posicion\")\n",
    "plt.plot(pos)\n",
    "plt.yticks(list(range(1,cant_participantes+1)))\n",
    "\n",
    "plt.show()"
   ]
  },
  {
   "cell_type": "markdown",
   "id": "5bbca1e6",
   "metadata": {},
   "source": [
    "## 20 participantes - 200 partidos"
   ]
  },
  {
   "cell_type": "code",
   "execution_count": 9,
   "id": "fa9b045c",
   "metadata": {},
   "outputs": [
    {
     "data": {
      "image/png": "[encoded data removed]",
      "text/plain": [
       "<Figure size 1152x288 with 2 Axes>"
      ]
     },
     "metadata": {
      "needs_background": "light"
     },
     "output_type": "display_data"
    }
   ],
   "source": [
    "cant_participantes = 20\n",
    "cant_partidos = 200\n",
    "\n",
    "rating, pos = experimento_1(cant_participantes,cant_partidos)\n",
    "\n",
    "plt.figure(figsize = (16,4))\n",
    "\n",
    "# Plot rating\n",
    "plt.subplot(1,2,1)\n",
    "plt.title(\"Rating\")\n",
    "plt.plot(rating)\n",
    "plt.ylim(0,1)\n",
    "\n",
    "# Plot posicion\n",
    "plt.subplot(1,2,2)\n",
    "plt.title(\"Posicion\")\n",
    "plt.plot(pos)\n",
    "plt.yticks(list(range(1,cant_participantes+1)))\n",
    "\n",
    "plt.show()"
   ]
  },
  {
   "cell_type": "markdown",
   "id": "949711b5",
   "metadata": {},
   "source": [
    "# Experimento (2)"
   ]
  },
  {
   "cell_type": "code",
   "execution_count": 14,
   "id": "b0e88811",
   "metadata": {},
   "outputs": [],
   "source": [
    "def crear_compentencia_exp_2(cant_participantes, cant_partidos):\n",
    "    \n",
    "    # Pre: cant_participantes >= 3, cant_partidos >= 2\n",
    "    \n",
    "    # Creo partidos\n",
    "    \n",
    "    g = np.array([], dtype = int) # ganadores\n",
    "    p = np.array([], dtype = int) # perderores\n",
    "    pg = np.ones(cant_partidos, dtype = int) # puntos ganadores\n",
    "    pp = np.zeros(cant_partidos, dtype = int) # puntos perdedores\n",
    "    \n",
    "    # aseguro partido i vs j\n",
    "    i_o_j = np.random.choice([2,3])\n",
    "    g = np.append(g,i_o_j)\n",
    "    p = np.append(p,5-i_o_j)\n",
    "    \n",
    "    # aseguro coneccion por partidos de h con i y j\n",
    "    \n",
    "    # armo una secuencia de cant_partidos participantes\n",
    "    # [5,4,2,5,6,7], que se interpreta como 5vs4, luego 4vs2\n",
    "    # luego 2vs5 y asi\n",
    "    # asegurando que se empieza por i o j y termina con h o al reves\n",
    "    i_o_j = np.random.choice([2,3])\n",
    "    principio = np.random.choice([i_o_j, 1])\n",
    "    \n",
    "    if principio == 1: \n",
    "        fin = i_o_j\n",
    "    else:\n",
    "        fin = 1\n",
    "        \n",
    "    secu = np.array([principio])\n",
    "    \n",
    "    for _ in range(cant_partidos-2):\n",
    "        \n",
    "        oponentes = np.array(list(range(cant_participantes)))+1\n",
    "        oponentes = oponentes[oponentes != secu[-1]]\n",
    "        secu = np.append(secu, np.random.choice(oponentes))\n",
    "    \n",
    "    secu = np.append(secu, fin)\n",
    "\n",
    "    # completo g y p\n",
    "    \n",
    "    for idx in range(len(secu)-1):\n",
    "        \n",
    "        gana = np.random.choice([secu[idx], secu[idx+1]])\n",
    "        if secu[idx] == gana:\n",
    "            pierde = secu[idx+1]\n",
    "        else:\n",
    "            pierde = secu[idx]\n",
    "            \n",
    "        g = np.append(g, gana)\n",
    "        p = np.append(p, pierde)\n",
    "        \n",
    "    return g,p,pg,pp"
   ]
  },
  {
   "cell_type": "code",
   "execution_count": 15,
   "id": "273e582d",
   "metadata": {},
   "outputs": [],
   "source": [
    "def calcular_rankings_h(g,p,pg,pp):\n",
    "    \n",
    "    n_partido = len(g)\n",
    "    \n",
    "    # Calculo original\n",
    "    \n",
    "    file_in = \"torneos/exp_2_o_e\"+str(cant_participantes)+\"_p\"+str(n_partido)+\".in\"\n",
    "    file_out = \"torneos/res_2_o_e\"+str(cant_participantes)+\"_p\"+str(n_partido)+\".out\"\n",
    "\n",
    "    escribir_tabla(file_in,cant_participantes,n_partido,g,p,pg,pp) # Escribo archivo\n",
    "    calcular_ranking(file_in,file_out) # Calculo ranking\n",
    "    res = leer_ranking(file_out)# Leo ranking\n",
    "        \n",
    "    ro = res[0]\n",
    "    po = 1\n",
    "    \n",
    "    for e in res:\n",
    "        \n",
    "        if e > ro: po += 1\n",
    "            \n",
    "    # Calculo invertido\n",
    "    for idx in range(len(g)):\n",
    "        \n",
    "        if g[idx] == 2 and p[idx] == 3:\n",
    "            \n",
    "            g[idx] = 3\n",
    "            p[idx] = 2\n",
    "            \n",
    "        elif g[idx] == 3 and p[idx] == 2:\n",
    "            \n",
    "            g[idx] = 2\n",
    "            p[idx] = 3\n",
    "            \n",
    "    file_in = \"torneos/exp_2_inv_e\"+str(cant_participantes)+\"_p\"+str(n_partido)+\".in\"\n",
    "    file_out = \"torneos/res_2_inv_e\"+str(cant_participantes)+\"_p\"+str(n_partido)+\".out\"\n",
    "\n",
    "    escribir_tabla(file_in,cant_participantes,n_partido,g,p,pg,pp) # Escribo archivo\n",
    "    calcular_ranking(file_in,file_out) # Calculo ranking\n",
    "    res = leer_ranking(file_out)# Leo ranking\n",
    "        \n",
    "    rin = res[0]\n",
    "    pin = 1\n",
    "    \n",
    "    for e in res:\n",
    "        \n",
    "        if e > rin: pin += 1\n",
    "    \n",
    "    # Calculo gana siempre i\n",
    "    for idx in range(len(g)):\n",
    "            \n",
    "        if g[idx] == 3 and p[idx] == 2:\n",
    "            \n",
    "            g[idx] = 2\n",
    "            p[idx] = 3\n",
    "            \n",
    "    file_in = \"torneos/exp_2_i_e\"+str(cant_participantes)+\"_p\"+str(n_partido)+\".in\"\n",
    "    file_out = \"torneos/res_2_i_e\"+str(cant_participantes)+\"_p\"+str(n_partido)+\".out\"\n",
    "\n",
    "    escribir_tabla(file_in,cant_participantes,n_partido,g,p,pg,pp) # Escribo archivo\n",
    "    calcular_ranking(file_in,file_out) # Calculo ranking\n",
    "    res = leer_ranking(file_out)# Leo ranking\n",
    "        \n",
    "    ri = res[0]\n",
    "    pi = 1\n",
    "    \n",
    "    for e in res:\n",
    "        \n",
    "        if e > ri: pi += 1\n",
    "    \n",
    "    # Calculo gana siempre j\n",
    "    for idx in range(len(g)):\n",
    "            \n",
    "        if g[idx] == 2 and p[idx] == 3:\n",
    "            \n",
    "            g[idx] = 3\n",
    "            p[idx] = 2\n",
    "            \n",
    "    file_in = \"torneos/exp_2_j_e\"+str(cant_participantes)+\"_p\"+str(n_partido)+\".in\"\n",
    "    file_out = \"torneos/res_2_j_e\"+str(cant_participantes)+\"_p\"+str(n_partido)+\".out\"\n",
    "\n",
    "    escribir_tabla(file_in,cant_participantes,n_partido,g,p,pg,pp) # Escribo archivo\n",
    "    calcular_ranking(file_in,file_out) # Calculo ranking\n",
    "    res = leer_ranking(file_out)# Leo ranking\n",
    "        \n",
    "    rj = res[0]\n",
    "    pj = 1\n",
    "    \n",
    "    for e in res:\n",
    "        \n",
    "        if e > rj: pj += 1\n",
    "    \n",
    "    # Calculo random partidos i con j\n",
    "    for idx in range(len(g)):\n",
    "            \n",
    "        if g[idx] == 3 and p[idx] == 2:\n",
    "            \n",
    "            g[idx] = np.random.choice([2,3])\n",
    "            p[idx] = 5-g[idx]\n",
    "            \n",
    "    file_in = \"torneos/exp_2_rand_e\"+str(cant_participantes)+\"_p\"+str(n_partido)+\".in\"\n",
    "    file_out = \"torneos/res_2_rand_e\"+str(cant_participantes)+\"_p\"+str(n_partido)+\".out\"\n",
    "\n",
    "    escribir_tabla(file_in,cant_participantes,n_partido,g,p,pg,pp) # Escribo archivo\n",
    "    calcular_ranking(file_in,file_out) # Calculo ranking\n",
    "    res = leer_ranking(file_out)# Leo ranking\n",
    "        \n",
    "    rrand = res[0]\n",
    "    prand = 1\n",
    "    \n",
    "    for e in res:\n",
    "        \n",
    "        if e > rrand: prand += 1\n",
    "            \n",
    "    return (ro,po),(rin, pin),(ri,pi),(rj,pj),(rrand,prand)"
   ]
  },
  {
   "cell_type": "code",
   "execution_count": 16,
   "id": "12a3e3e8",
   "metadata": {},
   "outputs": [],
   "source": [
    "def experimento_2(cant_participantes, cant_partidos):\n",
    "    \n",
    "    g,p,pg,pp = crear_compentencia_exp_2(cant_participantes, cant_partidos)\n",
    "    (ro,po),(rin,pin),(ri,pi),(rj,pj),(rrand,prand) = calcular_rankings_h(g,p,pg,pp)\n",
    "    \n",
    "    return (ro,po),(rin,pin),(ri,pi),(rj,pj),(rrand,prand)"
   ]
  },
  {
   "cell_type": "code",
   "execution_count": 19,
   "id": "c492a3c9",
   "metadata": {},
   "outputs": [
    {
     "data": {
      "image/png": "[encoded data removed]",
      "text/plain": [
       "<Figure size 1152x1008 with 2 Axes>"
      ]
     },
     "metadata": {
      "needs_background": "light"
     },
     "output_type": "display_data"
    }
   ],
   "source": [
    "np.random.seed(0)\n",
    "cant_participantes = 6\n",
    "cant_partidos = 12\n",
    "\n",
    "(ro,po),(rin,pin),(ri,pi),(rj,pj),(rrand,prand) = experimento_2(6,12)\n",
    "\n",
    "ratings = [ro,rin, ri, rj, rrand]\n",
    "poss = [po,pin,pi,pj,prand]\n",
    "labels = [\"original\", \"invertido\", \"gana i\", \"gana j\", \"random\"]\n",
    "\n",
    "plt.figure(figsize = (16,14))\n",
    "\n",
    "# Grafico rating\n",
    "plt.subplot(2,1,1)\n",
    "rec = plt.bar(labels, ratings)\n",
    "plt.bar_label(rec, padding = 3)\n",
    "plt.ylim(np.min(ratings)-0.1,np.max(ratings)+0.1)\n",
    "plt.title(\"Ratings\")\n",
    "\n",
    "# Grafico posicion\n",
    "plt.subplot(2,1,2)\n",
    "rec = plt.bar(labels, poss)\n",
    "plt.bar_label(rec, padding = 3)\n",
    "plt.ylim(np.min(poss)-0.1,np.max(poss)+0.1)\n",
    "plt.title(\"Posicion\")\n",
    "plt.yticks(np.arange(cant_participantes)+1)\n",
    "plt.show()"
   ]
  },
  {
   "cell_type": "code",
   "execution_count": 20,
   "id": "b23556a6",
   "metadata": {},
   "outputs": [
    {
     "data": {
      "image/png": "[encoded data removed]",
      "text/plain": [
       "<Figure size 1152x1008 with 2 Axes>"
      ]
     },
     "metadata": {
      "needs_background": "light"
     },
     "output_type": "display_data"
    }
   ],
   "source": [
    "np.random.seed(0)\n",
    "cant_participantes = 10\n",
    "cant_partidos = 100\n",
    "\n",
    "(ro,po),(rin,pin),(ri,pi),(rj,pj),(rrand,prand) = experimento_2(6,12)\n",
    "\n",
    "ratings = [ro,rin, ri, rj, rrand]\n",
    "poss = [po,pin,pi,pj,prand]\n",
    "labels = [\"original\", \"invertido\", \"gana i\", \"gana j\", \"random\"]\n",
    "\n",
    "plt.figure(figsize = (16,14))\n",
    "\n",
    "# Grafico rating\n",
    "plt.subplot(2,1,1)\n",
    "rec = plt.bar(labels, ratings)\n",
    "plt.bar_label(rec, padding = 3)\n",
    "plt.ylim(np.min(ratings)-0.1,np.max(ratings)+0.1)\n",
    "plt.title(\"Ratings\")\n",
    "\n",
    "# Grafico posicion\n",
    "plt.subplot(2,1,2)\n",
    "rec = plt.bar(labels, poss)\n",
    "plt.bar_label(rec, padding = 3)\n",
    "plt.ylim(np.min(poss)-0.1,np.max(poss)+0.1)\n",
    "plt.title(\"Posicion\")\n",
    "plt.yticks(np.arange(cant_participantes)+1)\n",
    "plt.show()"
   ]
  },
  {
   "cell_type": "code",
   "execution_count": null,
   "id": "79e8f080",
   "metadata": {},
   "outputs": [],
   "source": [
    "np.random.seed(0)\n",
    "cant_participantes = 20\n",
    "cant_partidos = 200\n",
    "\n",
    "(ro,po),(rin,pin),(ri,pi),(rj,pj),(rrand,prand) = experimento_2(6,12)\n",
    "\n",
    "ratings = [ro,rin, ri, rj, rrand]\n",
    "poss = [po,pin,pi,pj,prand]\n",
    "labels = [\"original\", \"invertido\", \"gana i\", \"gana j\", \"random\"]\n",
    "\n",
    "plt.figure(figsize = (16,14))\n",
    "\n",
    "# Grafico rating\n",
    "plt.subplot(2,1,1)\n",
    "rec = plt.bar(labels, ratings)\n",
    "plt.bar_label(rec, padding = 3)\n",
    "plt.ylim(np.min(ratings)-0.1,np.max(ratings)+0.1)\n",
    "plt.title(\"Ratings\")\n",
    "\n",
    "# Grafico posicion\n",
    "plt.subplot(2,1,2)\n",
    "rec = plt.bar(labels, poss)\n",
    "plt.bar_label(rec, padding = 3)\n",
    "plt.ylim(np.min(poss)-0.1,np.max(poss)+0.1)\n",
    "plt.title(\"Posicion\")\n",
    "plt.yticks(np.arange(cant_participantes)+1)\n",
    "plt.show()"
   ]
  }
 ],
 "metadata": {
  "kernelspec": {
   "display_name": "Python 3 (ipykernel)",
   "language": "python",
   "name": "python3"
  },
  "language_info": {
   "codemirror_mode": {
    "name": "ipython",
    "version": 3
   },
   "file_extension": ".py",
   "mimetype": "text/x-python",
   "name": "python",
   "nbconvert_exporter": "python",
   "pygments_lexer": "ipython3",
   "version": "3.8.10"
  }
 },
 "nbformat": 4,
 "nbformat_minor": 5
}
