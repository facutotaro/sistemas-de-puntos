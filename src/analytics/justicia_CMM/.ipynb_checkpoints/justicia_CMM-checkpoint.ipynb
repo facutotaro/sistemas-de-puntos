{
 "cells": [
  {
   "cell_type": "code",
   "execution_count": 16,
   "id": "ddb0cda2",
   "metadata": {},
   "outputs": [],
   "source": [
    "import subprocess\n",
    "import pathlib\n",
    "import pandas as pd\n",
    "import numpy as np"
   ]
  },
  {
   "cell_type": "code",
   "execution_count": 15,
   "id": "06804bd4",
   "metadata": {},
   "outputs": [
    {
     "name": "stdout",
     "output_type": "stream",
     "text": [
      "make: Nothing to be done for 'all'.\n"
     ]
    },
    {
     "data": {
      "text/plain": [
       "CompletedProcess(args=['make'], returncode=0)"
      ]
     },
     "execution_count": 15,
     "metadata": {},
     "output_type": "execute_result"
    }
   ],
   "source": [
    "src_path = str(pathlib.Path().resolve().parents[1]) # calcula path a directorio src\n",
    "subprocess.run([\"make\"], cwd = src_path + \"/cpp\") # build del cpp"
   ]
  },
  {
   "cell_type": "code",
   "execution_count": 22,
   "id": "a72e0e18",
   "metadata": {},
   "outputs": [
    {
     "data": {
      "text/plain": [
       "array([[2, 1],\n",
       "       [3, 4],\n",
       "       [1, 2],\n",
       "       [3, 3],\n",
       "       [0, 0],\n",
       "       [2, 2],\n",
       "       [0, 4],\n",
       "       [4, 3],\n",
       "       [1, 5],\n",
       "       [5, 2]])"
      ]
     },
     "execution_count": 22,
     "metadata": {},
     "output_type": "execute_result"
    }
   ],
   "source": [
    "#Creo tablas\n",
    "cant_participantes = 6\n",
    "cant_partidos = 10\n",
    "equipos = np.arange(cant_participantes)\n",
    "ganadores = np.random.choice(cant_participantes, cant_partidos)\n",
    "perdedores = np.array([np.random.choice(cant_participantes) for g in ganadores])"
   ]
  },
  {
   "cell_type": "code",
   "execution_count": null,
   "id": "5726a75a",
   "metadata": {},
   "outputs": [],
   "source": [
    "# Corre test\n",
    "local_path = str(pathlib.Path().resolve())\n",
    "tabla_path = \"/test1.in\"\n",
    "res_path = \"/result_test1.out\"\n",
    "\n",
    "subprocess.run([\"./tp1\", local_path + tabla_path, \n",
    "                         local_path + res_path, \n",
    "                           \"0\"], \n",
    "               cwd = src_path + \"/cpp\")"
   ]
  }
 ],
 "metadata": {
  "kernelspec": {
   "display_name": "Python 3 (ipykernel)",
   "language": "python",
   "name": "python3"
  },
  "language_info": {
   "codemirror_mode": {
    "name": "ipython",
    "version": 3
   },
   "file_extension": ".py",
   "mimetype": "text/x-python",
   "name": "python",
   "nbconvert_exporter": "python",
   "pygments_lexer": "ipython3",
   "version": "3.8.10"
  }
 },
 "nbformat": 4,
 "nbformat_minor": 5
}
