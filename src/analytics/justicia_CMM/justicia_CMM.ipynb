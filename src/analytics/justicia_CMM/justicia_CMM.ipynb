{
 "cells": [
  {
   "cell_type": "code",
   "execution_count": 132,
   "id": "ddb0cda2",
   "metadata": {},
   "outputs": [],
   "source": [
    "import subprocess\n",
    "import pathlib\n",
    "import pandas as pd\n",
    "import numpy as np\n",
    "import matplotlib.pyplot as plt"
   ]
  },
  {
   "cell_type": "code",
   "execution_count": 133,
   "id": "ffd7f092",
   "metadata": {},
   "outputs": [
    {
     "name": "stdout",
     "output_type": "stream",
     "text": [
      "make: Nothing to be done for 'all'.\n"
     ]
    },
    {
     "data": {
      "text/plain": [
       "CompletedProcess(args=['make'], returncode=0)"
      ]
     },
     "execution_count": 133,
     "metadata": {},
     "output_type": "execute_result"
    }
   ],
   "source": [
    "src_path = str(pathlib.Path().resolve().parents[1]) # calcula path a directorio src\n",
    "subprocess.run([\"make\"], cwd = src_path + \"/cpp\") # build del cpp"
   ]
  },
  {
   "cell_type": "markdown",
   "id": "f0eafe2f",
   "metadata": {},
   "source": [
    "# Experimento (1)"
   ]
  },
  {
   "cell_type": "code",
   "execution_count": 134,
   "id": "084e6a59",
   "metadata": {},
   "outputs": [],
   "source": [
    "def crear_competencia(cant_participantes, cant_partidos):\n",
    "    # dada una cantidad de participante y de partidos\n",
    "    # crea 4 np array:\n",
    "    # lista de ganadores de cada partido\n",
    "    # lista de perdedores de cada partido\n",
    "    # lista de 1's(puntaje de los ganadores)\n",
    "    # lista de 0's(puntaje de los perdedores)\n",
    "    \n",
    "    ganadores = np.random.choice(cant_participantes, cant_partidos, replace = True)\n",
    "\n",
    "    perdedores = np.array([])\n",
    "\n",
    "    for g in ganadores:\n",
    "\n",
    "        perdedores = np.append(perdedores, \n",
    "                               np.random.choice(np.delete(np.arange(cant_participantes), g)))\n",
    "\n",
    "    perdedores = perdedores.astype(int)\n",
    "        \n",
    "    puntajeG = np.ones(cant_partidos, dtype = int)\n",
    "    puntajeP = np.zeros(cant_partidos, dtype = int)\n",
    "    \n",
    "    return ganadores+1, perdedores+1, puntajeG, puntajeP\n",
    "\n",
    "def escribir_tabla(file_name, cant_participantes, cant_partidos, g, p, pg, pp):\n",
    "    # dada 4 listas: lista de ganadores, perdedores, \n",
    "    # puntaje ganadores y puntaje perdedores,\n",
    "    # y dado la cantidad de participantes y de partidos, junto a un nombre de archivo\n",
    "    # genera el archivo \"file_name\" con la tabla de la competencia(formato enunciado)\n",
    "    \n",
    "    with open(file_name,\"w\") as file:\n",
    "    \n",
    "        file.write(str(cant_participantes) + \" \" + str(cant_partidos))\n",
    "\n",
    "        for i in range(cant_partidos):\n",
    "\n",
    "            file.write(\"\\n\" + \"1 \" + str(g[i]) + \" \" + str(pg[i]) + \n",
    "                       \" \" + str(p[i]) + \" \" + str(pp[i]))"
   ]
  },
  {
   "cell_type": "code",
   "execution_count": 135,
   "id": "5bda0fcd",
   "metadata": {},
   "outputs": [],
   "source": [
    "def leer_ranking(file_name):\n",
    "    # Dada la direccion de un archivo con el ranking\n",
    "    # resultado de una competencia, devuelve un arreglo\n",
    "    # con el rating ordenado por numero de competidor\n",
    "    \n",
    "    with open(file_name, \"r\") as file:\n",
    "        \n",
    "        str_out = file.read()\n",
    "        \n",
    "    out = []\n",
    "    \n",
    "    word = \"\"\n",
    "    \n",
    "    for c in str_out:\n",
    "        \n",
    "        if c != \"\\n\":\n",
    "            \n",
    "            word += c\n",
    "            \n",
    "        else:\n",
    "            \n",
    "            out.append(float(word))\n",
    "            word = \"\"\n",
    "        \n",
    "    return np.array(out)"
   ]
  },
  {
   "cell_type": "code",
   "execution_count": 136,
   "id": "7fcf7f8f",
   "metadata": {},
   "outputs": [],
   "source": [
    "def calcular_ranking(file_in, file_out, mode = \"0\"):\n",
    "    \n",
    "    # Dado en archivo en formato tabla, procesa los datos con CMM, WP o RPI y\n",
    "    # los escribe en un archivo de salida en el directorio local\n",
    "    \n",
    "    # Corre test\n",
    "    src_path = str(pathlib.Path().resolve().parents[1]) # calcula path a directorio src\n",
    "    local_path = str(pathlib.Path().resolve()) # calcula path directorio local\n",
    "    tabla_path = \"/\" + file_in\n",
    "    res_path = \"/\" + file_out\n",
    "\n",
    "    subprocess.run([\"./tp1\", local_path + tabla_path, \n",
    "                             local_path + res_path, \n",
    "                               mode], \n",
    "                   cwd = src_path + \"/cpp\")"
   ]
  },
  {
   "cell_type": "code",
   "execution_count": 144,
   "id": "8ccca33a",
   "metadata": {},
   "outputs": [],
   "source": [
    "def experimento_1(cant_participantes, cant_partidos):\n",
    "    # Dada una cantidad de participantes y partidos\n",
    "    # crea un torneo con dicha cantidad de participantes y partidos\n",
    "    # Luego simula que el Grupo A ya termino sus partidos y\n",
    "    # que se encuentran jugando los equipos del Grupo B\n",
    "    # Con esto se analiza el comportamiento de ranking (rating y posicion)\n",
    "    # de un equipo del grupo A (el que tiene indice 1 en la tabla) y\n",
    "    # devuelve una lista con el historial de ranking de dicho equipo\n",
    "\n",
    "    # Grupo A\n",
    "    gA, pA, pgA, ppA = crear_competencia(cant_participantes//2, cant_partidos//2)\n",
    "\n",
    "    # Grupo B\n",
    "    gB, pB, pgB, ppB = crear_competencia(cant_participantes//2, cant_partidos//2)\n",
    "\n",
    "    g = np.append(gA, gB+(cant_participantes//2))\n",
    "    p = np.append(pA, pB+(cant_participantes//2))\n",
    "    pg = np.append(pgA, pgB)\n",
    "    pp = np.append(ppA, ppB)\n",
    "\n",
    "    ratings_h = []\n",
    "    poss_h = []\n",
    "\n",
    "    for n_partido in range(cant_partidos//2, cant_partidos):\n",
    "\n",
    "        file_in = \"torneos/exp_1_e\"+str(cant_participantes)+\"_p\"+str(n_partido)+\".in\"\n",
    "        file_out = \"torneos/res_1_e\"+str(cant_participantes)+\"_p\"+str(n_partido)+\".out\"\n",
    "\n",
    "        # Escribo archivo\n",
    "        escribir_tabla(file_in,cant_participantes,n_partido,g,p,pg,pp)\n",
    "\n",
    "        # Calculo ranking\n",
    "        calcular_ranking(file_in,file_out)\n",
    "\n",
    "        # Leo ranking\n",
    "        res = leer_ranking(file_out)\n",
    "\n",
    "        ratings_h.append(res[0])\n",
    "        pos_h = 1\n",
    "\n",
    "        for r in res: \n",
    "\n",
    "            if r > res[0]: pos_h+=1\n",
    "\n",
    "        poss_h.append(pos_h)\n",
    "        \n",
    "    return ratings_h, poss_h"
   ]
  },
  {
   "cell_type": "code",
   "execution_count": 184,
   "id": "ff739d36",
   "metadata": {},
   "outputs": [
    {
     "data": {
      "image/png": "[encoded data removed]",
      "text/plain": [
       "<Figure size 1152x288 with 2 Axes>"
      ]
     },
     "metadata": {
      "needs_background": "light"
     },
     "output_type": "display_data"
    }
   ],
   "source": [
    "np.random.seed(8)\n",
    "\n",
    "cant_participantes = 6\n",
    "cant_partidos = 12\n",
    "\n",
    "rating, pos = experimento_1(cant_participantes,cant_partidos)\n",
    "\n",
    "plt.figure(figsize = (16,4))\n",
    "\n",
    "# Plot rating\n",
    "plt.subplot(1,2,1)\n",
    "plt.plot(rating)\n",
    "plt.xticks(list(range(cant_partidos//2)))\n",
    "plt.ylim(0,1)\n",
    "\n",
    "# Plot posicion\n",
    "plt.subplot(1,2,2)\n",
    "plt.plot(pos)\n",
    "plt.xticks(list(range(cant_partidos//2)))\n",
    "plt.yticks(list(range(1,cant_participantes+1)))\n",
    "\n",
    "plt.show()"
   ]
  },
  {
   "cell_type": "code",
   "execution_count": 185,
   "id": "83bf1960",
   "metadata": {},
   "outputs": [
    {
     "data": {
      "image/png": "[encoded data removed]",
      "text/plain": [
       "<Figure size 1152x288 with 2 Axes>"
      ]
     },
     "metadata": {
      "needs_background": "light"
     },
     "output_type": "display_data"
    }
   ],
   "source": [
    "cant_participantes = 10\n",
    "cant_partidos = 100\n",
    "\n",
    "rating, pos = experimento_1(cant_participantes,cant_partidos)\n",
    "\n",
    "plt.figure(figsize = (16,4))\n",
    "\n",
    "# Plot rating\n",
    "plt.subplot(1,2,1)\n",
    "plt.plot(rating)\n",
    "plt.ylim(0,1)\n",
    "\n",
    "# Plot posicion\n",
    "plt.subplot(1,2,2)\n",
    "plt.plot(pos)\n",
    "plt.yticks(list(range(1,cant_participantes+1)))\n",
    "\n",
    "plt.show()"
   ]
  },
  {
   "cell_type": "code",
   "execution_count": 186,
   "id": "920c9641",
   "metadata": {},
   "outputs": [
    {
     "data": {
      "image/png": "[encoded data removed]",
      "text/plain": [
       "<Figure size 1152x288 with 2 Axes>"
      ]
     },
     "metadata": {
      "needs_background": "light"
     },
     "output_type": "display_data"
    }
   ],
   "source": [
    "cant_participantes = 20\n",
    "cant_partidos = 200\n",
    "\n",
    "rating, pos = experimento_1(cant_participantes,cant_partidos)\n",
    "\n",
    "plt.figure(figsize = (16,4))\n",
    "\n",
    "# Plot rating\n",
    "plt.subplot(1,2,1)\n",
    "plt.plot(rating)\n",
    "plt.ylim(0,1)\n",
    "\n",
    "# Plot posicion\n",
    "plt.subplot(1,2,2)\n",
    "plt.plot(pos)\n",
    "plt.yticks(list(range(1,cant_participantes+1)))\n",
    "\n",
    "plt.show()"
   ]
  },
  {
   "cell_type": "code",
   "execution_count": null,
   "id": "8a7d8a06",
   "metadata": {},
   "outputs": [],
   "source": []
  }
 ],
 "metadata": {
  "kernelspec": {
   "display_name": "Python 3 (ipykernel)",
   "language": "python",
   "name": "python3"
  },
  "language_info": {
   "codemirror_mode": {
    "name": "ipython",
    "version": 3
   },
   "file_extension": ".py",
   "mimetype": "text/x-python",
   "name": "python",
   "nbconvert_exporter": "python",
   "pygments_lexer": "ipython3",
   "version": "3.8.10"
  }
 },
 "nbformat": 4,
 "nbformat_minor": 5
}
