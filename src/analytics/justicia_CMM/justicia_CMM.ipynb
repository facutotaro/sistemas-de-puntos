{
 "cells": [
  {
   "cell_type": "code",
   "execution_count": 1,
   "id": "ddb0cda2",
   "metadata": {},
   "outputs": [],
   "source": [
    "import subprocess\n",
    "import pathlib"
   ]
  },
  {
   "cell_type": "code",
   "execution_count": 2,
   "id": "e1442d6d",
   "metadata": {},
   "outputs": [
    {
     "name": "stdout",
     "output_type": "stream",
     "text": [
      "make: Nothing to be done for 'all'.\n"
     ]
    },
    {
     "data": {
      "text/plain": [
       "CompletedProcess(args=['make'], returncode=0)"
      ]
     },
     "execution_count": 2,
     "metadata": {},
     "output_type": "execute_result"
    }
   ],
   "source": [
    "src_path = str(pathlib.Path().resolve().parents[1]) # calcula path a directorio src\n",
    "subprocess.run([\"make\"], cwd = src_path + \"/cpp\") # build del cpp"
   ]
  },
  {
   "cell_type": "code",
   "execution_count": null,
   "id": "d352662b",
   "metadata": {},
   "outputs": [],
   "source": [
    "# Corre test\n",
    "tabla_path = \"/tests/test1.in\"\n",
    "res_path = \"/analytics/test_1/result_test1.out\"\n",
    "\n",
    "subprocess.run([\"./tp1\", src_path + tabla_path, \n",
    "                         src_path + res_path, \n",
    "                           \"0\"], \n",
    "               cwd = src_path + \"/cpp\")"
   ]
  }
 ],
 "metadata": {
  "kernelspec": {
   "display_name": "Python 3 (ipykernel)",
   "language": "python",
   "name": "python3"
  },
  "language_info": {
   "codemirror_mode": {
    "name": "ipython",
    "version": 3
   },
   "file_extension": ".py",
   "mimetype": "text/x-python",
   "name": "python",
   "nbconvert_exporter": "python",
   "pygments_lexer": "ipython3",
   "version": "3.8.10"
  }
 },
 "nbformat": 4,
 "nbformat_minor": 5
}
