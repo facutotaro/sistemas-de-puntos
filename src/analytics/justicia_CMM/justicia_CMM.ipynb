{
 "cells": [
  {
   "cell_type": "code",
   "execution_count": 16,
   "id": "ddb0cda2",
   "metadata": {},
   "outputs": [],
   "source": [
    "import subprocess\n",
    "import pathlib\n",
    "import pandas as pd\n",
    "import numpy as np"
   ]
  },
  {
   "cell_type": "code",
   "execution_count": 15,
   "id": "ffd7f092",
   "metadata": {},
   "outputs": [
    {
     "name": "stdout",
     "output_type": "stream",
     "text": [
      "make: Nothing to be done for 'all'.\n"
     ]
    },
    {
     "data": {
      "text/plain": [
       "CompletedProcess(args=['make'], returncode=0)"
      ]
     },
     "execution_count": 15,
     "metadata": {},
     "output_type": "execute_result"
    }
   ],
   "source": [
    "src_path = str(pathlib.Path().resolve().parents[1]) # calcula path a directorio src\n",
    "subprocess.run([\"make\"], cwd = src_path + \"/cpp\") # build del cpp"
   ]
  },
  {
   "cell_type": "code",
   "execution_count": 44,
   "id": "2b032255",
   "metadata": {},
   "outputs": [
    {
     "data": {
      "text/plain": [
       "array([[8, 3],\n",
       "       [5, 0],\n",
       "       [7, 4],\n",
       "       [3, 1],\n",
       "       [5, 1],\n",
       "       [4, 2],\n",
       "       [2, 0],\n",
       "       [8, 0],\n",
       "       [5, 3],\n",
       "       [4, 2]])"
      ]
     },
     "execution_count": 44,
     "metadata": {},
     "output_type": "execute_result"
    }
   ],
   "source": [
    "#Creo tablas\n",
    "cant_participantes = 6\n",
    "cant_partidos = 10\n",
    "\n",
    "partidos = np.array([np.random.choice(cant_participantes, 2, replace = False) for x in range(cant_partidos)])\n",
    "puntos = np.array([[x,np.random.randint(x-1)] for x in np.random.randint(1,10, cant_partidos)])\n",
    "puntos"
   ]
  },
  {
   "cell_type": "code",
   "execution_count": null,
   "id": "d94f3dc5",
   "metadata": {},
   "outputs": [],
   "source": [
    "# Corre test\n",
    "local_path = str(pathlib.Path().resolve())\n",
    "tabla_path = \"/test1.in\"\n",
    "res_path = \"/result_test1.out\"\n",
    "\n",
    "subprocess.run([\"./tp1\", local_path + tabla_path, \n",
    "                         local_path + res_path, \n",
    "                           \"0\"], \n",
    "               cwd = src_path + \"/cpp\")"
   ]
  }
 ],
 "metadata": {
  "kernelspec": {
   "display_name": "Python 3 (ipykernel)",
   "language": "python",
   "name": "python3"
  },
  "language_info": {
   "codemirror_mode": {
    "name": "ipython",
    "version": 3
   },
   "file_extension": ".py",
   "mimetype": "text/x-python",
   "name": "python",
   "nbconvert_exporter": "python",
   "pygments_lexer": "ipython3",
   "version": "3.8.10"
  }
 },
 "nbformat": 4,
 "nbformat_minor": 5
}
