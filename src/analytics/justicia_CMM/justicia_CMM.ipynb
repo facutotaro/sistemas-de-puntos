{
 "cells": [
  {
   "cell_type": "code",
   "execution_count": 1,
   "id": "ddb0cda2",
   "metadata": {},
   "outputs": [],
   "source": [
    "import subprocess\n",
    "import pathlib\n",
    "import pandas as pd\n",
    "import numpy as np\n",
    "import matplotlib\n",
    "import matplotlib.pyplot as plt"
   ]
  },
  {
   "cell_type": "code",
   "execution_count": 2,
   "id": "ffd7f092",
   "metadata": {},
   "outputs": [
    {
     "name": "stdout",
     "output_type": "stream",
     "text": [
      "make: Nothing to be done for 'all'.\n"
     ]
    },
    {
     "data": {
      "text/plain": [
       "CompletedProcess(args=['make'], returncode=0)"
      ]
     },
     "execution_count": 2,
     "metadata": {},
     "output_type": "execute_result"
    }
   ],
   "source": [
    "src_path = str(pathlib.Path().resolve().parents[1]) # calcula path a directorio src\n",
    "subprocess.run([\"make\"], cwd = src_path + \"/cpp\") # build del cpp"
   ]
  },
  {
   "cell_type": "markdown",
   "id": "f0eafe2f",
   "metadata": {},
   "source": [
    "# Experimento (1)"
   ]
  },
  {
   "cell_type": "code",
   "execution_count": 3,
   "id": "084e6a59",
   "metadata": {},
   "outputs": [],
   "source": [
    "def crear_competencia(cant_participantes, cant_partidos):\n",
    "    # dada una cantidad de participantes y de partidos\n",
    "    # crea 4 np array:\n",
    "    # lista de ganadores de cada partido\n",
    "    # lista de perdedores de cada partido\n",
    "    # lista de 1's(puntaje de los ganadores)\n",
    "    # lista de 0's(puntaje de los perdedores)\n",
    "    \n",
    "    ganadores = np.random.choice(cant_participantes, cant_partidos, replace = True)\n",
    "\n",
    "    perdedores = np.array([])\n",
    "\n",
    "    for g in ganadores:\n",
    "\n",
    "        perdedores = np.append(perdedores, \n",
    "                               np.random.choice(np.delete(np.arange(cant_participantes), g)))\n",
    "\n",
    "    perdedores = perdedores.astype(int)\n",
    "        \n",
    "    puntajeG = np.ones(cant_partidos, dtype = int)\n",
    "    puntajeP = np.zeros(cant_partidos, dtype = int)\n",
    "    \n",
    "    return ganadores+1, perdedores+1, puntajeG, puntajeP\n",
    "\n",
    "def escribir_tabla(file_name, cant_participantes, cant_partidos, g, p, pg, pp):\n",
    "    # dada 4 listas: lista de ganadores, perdedores, \n",
    "    # puntaje ganadores y puntaje perdedores,\n",
    "    # y dado la cantidad de participantes y de partidos, junto a un nombre de archivo\n",
    "    # genera el archivo \"file_name\" con la tabla de la competencia(formato enunciado)\n",
    "    \n",
    "    with open(file_name,\"w\") as file:\n",
    "    \n",
    "        file.write(str(cant_participantes) + \" \" + str(cant_partidos))\n",
    "\n",
    "        for i in range(cant_partidos):\n",
    "\n",
    "            file.write(\"\\n\" + \"1 \" + str(g[i]) + \" \" + str(pg[i]) + \n",
    "                       \" \" + str(p[i]) + \" \" + str(pp[i]))"
   ]
  },
  {
   "cell_type": "code",
   "execution_count": 4,
   "id": "5bda0fcd",
   "metadata": {},
   "outputs": [],
   "source": [
    "def leer_ranking(file_name):\n",
    "    # Dada la direccion de un archivo con el ranking\n",
    "    # resultado de una competencia, devuelve un arreglo\n",
    "    # con el rating ordenado por numero de competidor\n",
    "    \n",
    "    with open(file_name, \"r\") as file:\n",
    "        \n",
    "        str_out = file.read()\n",
    "        \n",
    "    out = []\n",
    "    \n",
    "    word = \"\"\n",
    "    \n",
    "    for c in str_out:\n",
    "        \n",
    "        if c != \"\\n\":\n",
    "            \n",
    "            word += c\n",
    "            \n",
    "        else:\n",
    "            \n",
    "            out.append(float(word))\n",
    "            word = \"\"\n",
    "        \n",
    "    return np.array(out)"
   ]
  },
  {
   "cell_type": "code",
   "execution_count": 5,
   "id": "02e0fd02",
   "metadata": {},
   "outputs": [],
   "source": [
    "def calcular_ranking(file_in, file_out, mode = \"0\"):\n",
    "    \n",
    "    # Dado en archivo en formato tabla, procesa los datos con CMM, WP o RPI y\n",
    "    # los escribe en un archivo de salida en el directorio local\n",
    "    \n",
    "    # Corre test\n",
    "    src_path = str(pathlib.Path().resolve().parents[1]) # calcula path a directorio src\n",
    "    local_path = str(pathlib.Path().resolve()) # calcula path directorio local\n",
    "    tabla_path = \"/\" + file_in\n",
    "    res_path = \"/\" + file_out\n",
    "\n",
    "    subprocess.run([\"./tp1\", local_path + tabla_path, \n",
    "                             local_path + res_path, \n",
    "                               mode], \n",
    "                   cwd = src_path + \"/cpp\")"
   ]
  },
  {
   "cell_type": "code",
   "execution_count": 6,
   "id": "9916cce0",
   "metadata": {},
   "outputs": [],
   "source": [
    "def experimento_1(cant_participantes, cant_partidos):\n",
    "    # Dada una cantidad de participantes y partidos\n",
    "    # crea un torneo con dicha cantidad de participantes y partidos\n",
    "    # Luego simula que el Grupo A ya termino sus partidos y\n",
    "    # que se encuentran jugando los equipos del Grupo B\n",
    "    # Con esto se analiza el comportamiento de ranking (rating y posicion)\n",
    "    # de un equipo del grupo A (el que tiene indice 1 en la tabla) y\n",
    "    # devuelve una lista con el historial de ranking de dicho equipo\n",
    "\n",
    "    # Grupo A\n",
    "    gA, pA, pgA, ppA = crear_competencia(cant_participantes//2, cant_partidos//2)\n",
    "\n",
    "    # Grupo B\n",
    "    gB, pB, pgB, ppB = crear_competencia(cant_participantes//2, cant_partidos//2)\n",
    "\n",
    "    g = np.append(gA, gB+(cant_participantes//2))\n",
    "    p = np.append(pA, pB+(cant_participantes//2))\n",
    "    pg = np.append(pgA, pgB)\n",
    "    pp = np.append(ppA, ppB)\n",
    "\n",
    "    ratings_h = []\n",
    "    poss_h = []\n",
    "\n",
    "    for n_partido in range(cant_partidos//2, cant_partidos):\n",
    "\n",
    "        file_in = \"torneos/exp_1_e\"+str(cant_participantes)+\"_p\"+str(n_partido)+\".in\"\n",
    "        file_out = \"torneos/res_1_e\"+str(cant_participantes)+\"_p\"+str(n_partido)+\".out\"\n",
    "\n",
    "        # Escribo archivo\n",
    "        escribir_tabla(file_in,cant_participantes,n_partido,g,p,pg,pp)\n",
    "\n",
    "        # Calculo ranking\n",
    "        calcular_ranking(file_in,file_out)\n",
    "\n",
    "        # Leo ranking\n",
    "        res = leer_ranking(file_out)\n",
    "\n",
    "        ratings_h.append(res[0])\n",
    "        pos_h = 1\n",
    "\n",
    "        for r in res: \n",
    "\n",
    "            if r > res[0]: pos_h+=1\n",
    "\n",
    "        poss_h.append(pos_h)\n",
    "        \n",
    "    return ratings_h, poss_h"
   ]
  },
  {
   "cell_type": "markdown",
   "id": "cc978164",
   "metadata": {},
   "source": [
    "## 6 paticipantes - 12 partidos"
   ]
  },
  {
   "cell_type": "code",
   "execution_count": 7,
   "id": "d7d23dbf",
   "metadata": {},
   "outputs": [
    {
     "data": {
      "image/png": "[encoded data removed]",
      "text/plain": [
       "<Figure size 1152x288 with 2 Axes>"
      ]
     },
     "metadata": {
      "needs_background": "light"
     },
     "output_type": "display_data"
    }
   ],
   "source": [
    "np.random.seed(8)\n",
    "\n",
    "cant_participantes = 6\n",
    "cant_partidos = 12\n",
    "\n",
    "rating, pos = experimento_1(cant_participantes,cant_partidos)\n",
    "\n",
    "matplotlib.rcParams.update({'font.size': 12})\n",
    "plt.figure(figsize = (16,4))\n",
    "\n",
    "# Plot rating\n",
    "plt.subplot(1,2,1)\n",
    "plt.title(\"Rating\")\n",
    "plt.plot(rating)\n",
    "plt.xticks(list(range(cant_partidos//2)))\n",
    "plt.ylim(0,1)\n",
    "\n",
    "# Plot posicion\n",
    "plt.subplot(1,2,2)\n",
    "plt.title(\"Posicion\")\n",
    "plt.plot(pos)\n",
    "plt.xticks(list(range(cant_partidos//2)))\n",
    "plt.yticks(list(range(1,cant_participantes+1)))\n",
    "\n",
    "plt.show()"
   ]
  },
  {
   "cell_type": "markdown",
   "id": "ae9d8f0b",
   "metadata": {},
   "source": [
    "## 10 participantes - 100 partidos"
   ]
  },
  {
   "cell_type": "code",
   "execution_count": 8,
   "id": "a79a149c",
   "metadata": {},
   "outputs": [
    {
     "data": {
      "image/png": "[encoded data removed]",
      "text/plain": [
       "<Figure size 1152x288 with 2 Axes>"
      ]
     },
     "metadata": {
      "needs_background": "light"
     },
     "output_type": "display_data"
    }
   ],
   "source": [
    "cant_participantes = 10\n",
    "cant_partidos = 100\n",
    "\n",
    "rating, pos = experimento_1(cant_participantes,cant_partidos)\n",
    "\n",
    "plt.figure(figsize = (16,4))\n",
    "\n",
    "# Plot rating\n",
    "plt.subplot(1,2,1)\n",
    "plt.title(\"Rating\")\n",
    "plt.plot(rating)\n",
    "plt.ylim(0,1)\n",
    "\n",
    "# Plot posicion\n",
    "plt.subplot(1,2,2)\n",
    "plt.title(\"Posicion\")\n",
    "plt.plot(pos)\n",
    "plt.yticks(list(range(1,cant_participantes+1)))\n",
    "\n",
    "plt.show()"
   ]
  },
  {
   "cell_type": "markdown",
   "id": "5bbca1e6",
   "metadata": {},
   "source": [
    "## 20 participantes - 200 partidos"
   ]
  },
  {
   "cell_type": "code",
   "execution_count": 9,
   "id": "fa9b045c",
   "metadata": {},
   "outputs": [
    {
     "data": {
      "image/png": "[encoded data removed]",
      "text/plain": [
       "<Figure size 1152x288 with 2 Axes>"
      ]
     },
     "metadata": {
      "needs_background": "light"
     },
     "output_type": "display_data"
    }
   ],
   "source": [
    "cant_participantes = 20\n",
    "cant_partidos = 200\n",
    "\n",
    "rating, pos = experimento_1(cant_participantes,cant_partidos)\n",
    "\n",
    "plt.figure(figsize = (16,4))\n",
    "\n",
    "# Plot rating\n",
    "plt.subplot(1,2,1)\n",
    "plt.title(\"Rating\")\n",
    "plt.plot(rating)\n",
    "plt.ylim(0,1)\n",
    "\n",
    "# Plot posicion\n",
    "plt.subplot(1,2,2)\n",
    "plt.title(\"Posicion\")\n",
    "plt.plot(pos)\n",
    "plt.yticks(list(range(1,cant_participantes+1)))\n",
    "\n",
    "plt.show()"
   ]
  },
  {
   "cell_type": "markdown",
   "id": "e46aca9e",
   "metadata": {},
   "source": [
    "# Experimento (2.1)"
   ]
  },
  {
   "cell_type": "code",
   "execution_count": 10,
   "id": "506ca785",
   "metadata": {},
   "outputs": [],
   "source": [
    "def experimento_2_1(cant_participantes, cant_partidos, cant_partidos_h):\n",
    "    \n",
    "    # Creo partidos de h (sin i ni j)\n",
    "    \n",
    "    oponentes = list(range(4,cant_participantes+1))\n",
    "    prob = np.append(np.repeat(0.5/(cant_participantes-3), cant_participantes-3),0.5)\n",
    "    gh = np.random.choice(np.append(oponentes,1), size = cant_partidos_h, replace = True, p = prob)\n",
    "    \n",
    "    ph = []\n",
    "    for e in gh:\n",
    "        \n",
    "        if e == 1: ph.append(np.random.choice(oponentes))\n",
    "        else: ph.append(1)\n",
    "            \n",
    "    ph = np.array(ph)\n",
    "    \n",
    "    pgh = np.ones(cant_partidos_h, dtype = int)\n",
    "    pph = np.zeros(cant_partidos_h, dtype = int)\n",
    "    \n",
    "    # Creo partidos sin h\n",
    "    \n",
    "    g, p, pg, pp = crear_competencia(cant_participantes-1, cant_partidos)\n",
    "    g += 1\n",
    "    p += 1\n",
    "    \n",
    "    g = np.append(g, gh)\n",
    "    p = np.append(p, ph)\n",
    "    pg = np.append(pg, pgh)\n",
    "    pp = np.append(pp, pph)\n",
    "    \n",
    "    n_partido = cant_partidos + cant_partidos_h\n",
    "\n",
    "    # resultados originales\n",
    "    \n",
    "    file_in = \"torneos/exp_2_1_o_e\"+str(cant_participantes)+\"_p\"+str(n_partido)+\".in\"\n",
    "    file_out = \"torneos/res_2_1_o_e\"+str(cant_participantes)+\"_p\"+str(n_partido)+\".out\"\n",
    "    \n",
    "    escribir_tabla(file_in,cant_participantes,n_partido,g,p,pg,pp) # Escribo archivo\n",
    "\n",
    "    calcular_ranking(file_in,file_out) # Calculo ranking\n",
    "\n",
    "    res = leer_ranking(file_out) # Leo ranking\n",
    "    \n",
    "    ro = res[0]\n",
    "    po = 1\n",
    "\n",
    "    for r in res: \n",
    "\n",
    "        if r > ro: po+=1\n",
    "    \n",
    "    # invierto partidos entre i y j\n",
    "    \n",
    "    for i in range(len(g)):\n",
    "    \n",
    "        if g[i] == 2 and p[i] == 3:\n",
    "\n",
    "            g[i] = 3\n",
    "            p[i] = 2\n",
    "\n",
    "        elif g[i] == 3 and p[i] == 2:\n",
    "\n",
    "            g[i] = 2\n",
    "            p[i] = 3\n",
    "    \n",
    "    file_in = \"torneos/exp_2_1_inv_e\"+str(cant_participantes)+\"_p\"+str(n_partido)+\".in\"\n",
    "    file_out = \"torneos/res_2_1_inv_e\"+str(cant_participantes)+\"_p\"+str(n_partido)+\".out\"\n",
    "    \n",
    "    escribir_tabla(file_in,cant_participantes,n_partido,g,p,pg,pp) # Escribo archivo\n",
    "\n",
    "    calcular_ranking(file_in,file_out) # Calculo ranking\n",
    "\n",
    "    res = leer_ranking(file_out) # Leo ranking\n",
    "    \n",
    "    rin = res[0]\n",
    "    pin = 1\n",
    "\n",
    "    for r in res: \n",
    "\n",
    "        if r > rin: pin+=1\n",
    "    \n",
    "    # Gana siempre i\n",
    "    \n",
    "    for i in range(len(g)):\n",
    "    \n",
    "        if g[i] == 3 and p[i] == 2:\n",
    "\n",
    "            g[i] = 2\n",
    "            p[i] = 3\n",
    "    \n",
    "    file_in = \"torneos/exp_2_1_i_e\"+str(cant_participantes)+\"_p\"+str(n_partido)+\".in\"\n",
    "    file_out = \"torneos/res_2_1_i_e\"+str(cant_participantes)+\"_p\"+str(n_partido)+\".out\"\n",
    "    \n",
    "    escribir_tabla(file_in,cant_participantes,n_partido,g,p,pg,pp) # Escribo archivo\n",
    "\n",
    "    calcular_ranking(file_in,file_out) # Calculo ranking\n",
    "\n",
    "    res = leer_ranking(file_out) # Leo ranking\n",
    "    \n",
    "    ri = res[0]\n",
    "    pi = 1\n",
    "\n",
    "    for r in res: \n",
    "\n",
    "        if r > ri: pi+=1\n",
    "    \n",
    "    # Gana siempre j\n",
    "    \n",
    "    for i in range(len(g)):\n",
    "    \n",
    "        if g[i] == 2 and p[i] == 3:\n",
    "\n",
    "            g[i] = 3\n",
    "            p[i] = 2\n",
    "    \n",
    "    file_in = \"torneos/exp_2_1_j_e\"+str(cant_participantes)+\"_p\"+str(n_partido)+\".in\"\n",
    "    file_out = \"torneos/res_2_1_j_e\"+str(cant_participantes)+\"_p\"+str(n_partido)+\".out\"\n",
    "    \n",
    "    escribir_tabla(file_in,cant_participantes,n_partido,g,p,pg,pp) # Escribo archivo\n",
    "\n",
    "    calcular_ranking(file_in,file_out) # Calculo ranking\n",
    "\n",
    "    res = leer_ranking(file_out) # Leo ranking\n",
    "    \n",
    "    rj = res[0]\n",
    "    pj = 1\n",
    "\n",
    "    for r in res: \n",
    "\n",
    "        if r > rj: pj+=1\n",
    "            \n",
    "    # Otro resultado aleatoreo entre i y j\n",
    "    for i in range(len(g)):\n",
    "    \n",
    "        if (g[i] == 2 and p[i] == 3) or (g[i] == 3 and p[i] == 2):\n",
    "\n",
    "            g[i] = np.random.choice([2,3])\n",
    "            p[i] = -g[i]+5\n",
    "        \n",
    "    ile_in = \"torneos/exp_2_1_rand_e\"+str(cant_participantes)+\"_p\"+str(n_partido)+\".in\"\n",
    "    file_out = \"torneos/res_2_1_rand_e\"+str(cant_participantes)+\"_p\"+str(n_partido)+\".out\"\n",
    "    \n",
    "    escribir_tabla(file_in,cant_participantes,n_partido,g,p,pg,pp) # Escribo archivo\n",
    "\n",
    "    calcular_ranking(file_in,file_out) # Calculo ranking\n",
    "\n",
    "    res = leer_ranking(file_out) # Leo ranking\n",
    "    \n",
    "    rrand = res[0]\n",
    "    prand = 1\n",
    "\n",
    "    for r in res: \n",
    "\n",
    "        if r > rrand: prand+=1\n",
    "    \n",
    "    \"\"\" cuanta la cantidad de partidos i j\n",
    "    count = 0\n",
    "    \n",
    "    for i in range(len(g)):\n",
    "        \n",
    "        if (g[i] == 2 and p[i] == 3) or (g[i] == 3 and p[i] == 2):\n",
    "            \n",
    "            count+=1\n",
    "    print(count)\n",
    "    \"\"\"\n",
    "    return (ro,po),(rin,pin),(ri,pi),(rj,pj),(rrand,prand)"
   ]
  },
  {
   "cell_type": "code",
   "execution_count": 11,
   "id": "bcb0bc69",
   "metadata": {},
   "outputs": [
    {
     "data": {
      "image/png": "[encoded data removed]",
      "text/plain": [
       "<Figure size 1152x1008 with 2 Axes>"
      ]
     },
     "metadata": {
      "needs_background": "light"
     },
     "output_type": "display_data"
    }
   ],
   "source": [
    "np.random.seed(9)\n",
    "cant_participantes = 6\n",
    "cant_partidos = 10\n",
    "cant_partidos_h = 2\n",
    "\n",
    "(ro,po),(rin,pin),(ri,pi),(rj,pj),(rrand,prand) = experimento_2_1(cant_participantes,\n",
    "                                                                  cant_partidos, \n",
    "                                                                  cant_partidos_h)\n",
    "\n",
    "# Grafiquetos\n",
    "\n",
    "ratings = [ro,rin, ri, rj, rrand]\n",
    "poss = [po,pin,pi,pj,prand]\n",
    "labels = [\"original\", \"invertido\", \"gana i\", \"gana j\", \"random\"]\n",
    "\n",
    "plt.figure(figsize = (16,14))\n",
    "\n",
    "# Grafico rating\n",
    "plt.subplot(2,1,1)\n",
    "rec = plt.bar(labels, ratings)\n",
    "plt.bar_label(rec, padding = 3)\n",
    "plt.ylim(np.min(ratings)-0.1,np.max(ratings)+0.1)\n",
    "plt.title(\"Ratings\")\n",
    "\n",
    "# Grafico posicion\n",
    "plt.subplot(2,1,2)\n",
    "rec = plt.bar(labels, poss)\n",
    "plt.bar_label(rec, padding = 3)\n",
    "plt.ylim(np.min(poss)-0.1,np.max(poss)+0.1)\n",
    "plt.title(\"Posicion\")\n",
    "plt.yticks(np.arange(cant_participantes)+1)\n",
    "plt.show()"
   ]
  },
  {
   "cell_type": "markdown",
   "id": "16128c10",
   "metadata": {},
   "source": [
    "## 10 participantes - 100 partidos"
   ]
  },
  {
   "cell_type": "code",
   "execution_count": 12,
   "id": "fa02814a",
   "metadata": {},
   "outputs": [
    {
     "data": {
      "image/png": "[encoded data removed]",
      "text/plain": [
       "<Figure size 1152x1008 with 2 Axes>"
      ]
     },
     "metadata": {
      "needs_background": "light"
     },
     "output_type": "display_data"
    }
   ],
   "source": [
    "np.random.seed(3)\n",
    "cant_participantes = 10\n",
    "cant_partidos = 90\n",
    "cant_partidos_h = 10\n",
    "\n",
    "(ro,po),(rin,pin),(ri,pi),(rj,pj),(rrand,prand) = experimento_2_1(cant_participantes,\n",
    "                                                                  cant_partidos, \n",
    "                                                                  cant_partidos_h)\n",
    "\n",
    "# Grafiquetos\n",
    "\n",
    "ratings = [ro,rin, ri, rj, rrand]\n",
    "poss = [po,pin,pi,pj,prand]\n",
    "labels = [\"original\", \"invertido\", \"gana i\", \"gana j\", \"random\"]\n",
    "\n",
    "plt.figure(figsize = (16,14))\n",
    "\n",
    "# Grafico rating\n",
    "plt.subplot(2,1,1)\n",
    "rec = plt.bar(labels, ratings)\n",
    "plt.bar_label(rec, padding = 3)\n",
    "plt.ylim(np.min(ratings)-0.1,np.max(ratings)+0.1)\n",
    "plt.title(\"Ratings\")\n",
    "\n",
    "# Grafico posicion\n",
    "plt.subplot(2,1,2)\n",
    "rec = plt.bar(labels, poss)\n",
    "plt.bar_label(rec, padding = 3)\n",
    "plt.ylim(np.min(poss)-0.1,np.max(poss)+0.1)\n",
    "plt.title(\"Posicion\")\n",
    "plt.yticks(np.arange(cant_participantes)+1)\n",
    "plt.show()"
   ]
  },
  {
   "cell_type": "markdown",
   "id": "2f499b80",
   "metadata": {},
   "source": [
    "## 20 participantes - 200 partidos"
   ]
  },
  {
   "cell_type": "code",
   "execution_count": 13,
   "id": "826fe3f5",
   "metadata": {},
   "outputs": [
    {
     "data": {
      "image/png": "[encoded data removed]",
      "text/plain": [
       "<Figure size 1152x1008 with 2 Axes>"
      ]
     },
     "metadata": {
      "needs_background": "light"
     },
     "output_type": "display_data"
    }
   ],
   "source": [
    "np.random.seed(3)\n",
    "cant_participantes = 20\n",
    "cant_partidos = 180\n",
    "cant_partidos_h = 20\n",
    "\n",
    "(ro,po),(rin,pin),(ri,pi),(rj,pj),(rrand,prand) = experimento_2_1(cant_participantes,\n",
    "                                                                  cant_partidos, \n",
    "                                                                  cant_partidos_h)\n",
    "\n",
    "# Grafiquetos\n",
    "\n",
    "ratings = [ro,rin, ri, rj, rrand]\n",
    "poss = [po,pin,pi,pj,prand]\n",
    "labels = [\"original\", \"invertido\", \"gana i\", \"gana j\", \"random\"]\n",
    "\n",
    "plt.figure(figsize = (16,14))\n",
    "\n",
    "# Grafico rating\n",
    "plt.subplot(2,1,1)\n",
    "rec = plt.bar(labels, ratings)\n",
    "plt.bar_label(rec, padding = 3)\n",
    "plt.ylim(np.min(ratings)-0.1,np.max(ratings)+0.1)\n",
    "plt.title(\"Ratings\")\n",
    "\n",
    "# Grafico posicion\n",
    "plt.subplot(2,1,2)\n",
    "rec = plt.bar(labels, poss)\n",
    "plt.bar_label(rec, padding = 3)\n",
    "plt.ylim(np.min(poss)-0.1,np.max(poss)+0.1)\n",
    "plt.title(\"Posicion\")\n",
    "plt.yticks(np.arange(cant_participantes)+1)\n",
    "plt.show()"
   ]
  },
  {
   "cell_type": "code",
   "execution_count": 32,
   "id": "afe68d46",
   "metadata": {},
   "outputs": [
    {
     "name": "stdout",
     "output_type": "stream",
     "text": [
      "0.15808607044335235\n"
     ]
    }
   ],
   "source": [
    "cant_participantes = 6\n",
    "cant_partidos = 10\n",
    "cant_partidos_h = 2\n",
    "\n",
    "ro_list = []\n",
    "\n",
    "for i in range(1000):\n",
    "    (ro,_),_,_,_,_ = experimento_2_1(cant_participantes, cant_partidos, cant_partidos_h)\n",
    "    ro_list.append(ro)\n",
    "    \n",
    "ro_list = np.array(ro_list)\n",
    "std = np.std(ro_list)\n",
    "print(std)"
   ]
  },
  {
   "cell_type": "code",
   "execution_count": 33,
   "id": "b8540969",
   "metadata": {},
   "outputs": [
    {
     "name": "stdout",
     "output_type": "stream",
     "text": [
      "0.12126469790455602\n"
     ]
    }
   ],
   "source": [
    "cant_participantes = 10\n",
    "cant_partidos = 90\n",
    "cant_partidos_h = 10\n",
    "\n",
    "ro_list = []\n",
    "\n",
    "for i in range(1000):\n",
    "    (ro,_),_,_,_,_ = experimento_2_1(cant_participantes, cant_partidos, cant_partidos_h)\n",
    "    ro_list.append(ro)\n",
    "    \n",
    "ro_list = np.array(ro_list)\n",
    "std = np.std(ro_list)\n",
    "print(std)"
   ]
  },
  {
   "cell_type": "code",
   "execution_count": 34,
   "id": "b1f5c5df",
   "metadata": {},
   "outputs": [
    {
     "name": "stdout",
     "output_type": "stream",
     "text": [
      "0.09228682774616039\n"
     ]
    }
   ],
   "source": [
    "cant_participantes = 20\n",
    "cant_partidos = 180\n",
    "cant_partidos_h = 20\n",
    "\n",
    "ro_list = []\n",
    "\n",
    "for i in range(1000):\n",
    "    (ro,_),_,_,_,_ = experimento_2_1(cant_participantes, cant_partidos, cant_partidos_h)\n",
    "    ro_list.append(ro)\n",
    "    \n",
    "ro_list = np.array(ro_list)\n",
    "std = np.std(ro_list)\n",
    "print(std)"
   ]
  },
  {
   "cell_type": "code",
   "execution_count": null,
   "id": "d7a4dfcb",
   "metadata": {},
   "outputs": [],
   "source": []
  }
 ],
 "metadata": {
  "kernelspec": {
   "display_name": "Python 3 (ipykernel)",
   "language": "python",
   "name": "python3"
  },
  "language_info": {
   "codemirror_mode": {
    "name": "ipython",
    "version": 3
   },
   "file_extension": ".py",
   "mimetype": "text/x-python",
   "name": "python",
   "nbconvert_exporter": "python",
   "pygments_lexer": "ipython3",
   "version": "3.8.10"
  }
 },
 "nbformat": 4,
 "nbformat_minor": 5
}
