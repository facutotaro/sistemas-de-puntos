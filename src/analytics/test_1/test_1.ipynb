{
 "cells": [
  {
   "cell_type": "code",
   "execution_count": 1,
   "id": "8b157bbb",
   "metadata": {},
   "outputs": [],
   "source": [
    "import subprocess\n",
    "import pathlib"
   ]
  },
  {
   "cell_type": "code",
   "execution_count": 2,
   "id": "8ba148d4",
   "metadata": {},
   "outputs": [
    {
     "data": {
      "text/plain": [
       "'/home/lucas/Desktop/MetNum/TP/metnum_tp1/src'"
      ]
     },
     "execution_count": 2,
     "metadata": {},
     "output_type": "execute_result"
    }
   ],
   "source": [
    "src_path = str(pathlib.Path().resolve().parents[1])\n",
    "src_path"
   ]
  },
  {
   "cell_type": "code",
   "execution_count": 7,
   "id": "096b77c1",
   "metadata": {},
   "outputs": [
    {
     "name": "stdout",
     "output_type": "stream",
     "text": [
      "g++ -c -Wall tp1.cpp -o tp1.o\n",
      "g++ -c -Wall partido.cpp -o partido.o\n",
      "g++ -c -Wall winPercentage.cpp -o winPercentage.o\n",
      "g++ -c -Wall colleyMatrix.cpp -o colleyMatrix.o\n",
      "g++ -c -Wall ratingIndex.cpp -o ratingIndex.o\n",
      "g++ -Wall tp1.o partido.o winPercentage.o colleyMatrix.o ratingIndex.o -o tp1\n"
     ]
    },
    {
     "data": {
      "text/plain": [
       "CompletedProcess(args=['make'], returncode=0)"
      ]
     },
     "execution_count": 7,
     "metadata": {},
     "output_type": "execute_result"
    }
   ],
   "source": [
    "subprocess.run([\"make\"], cwd = src_path + \"/cpp\")"
   ]
  },
  {
   "cell_type": "code",
   "execution_count": 8,
   "id": "d47cafbe",
   "metadata": {},
   "outputs": [
    {
     "data": {
      "text/plain": [
       "CompletedProcess(args=['./tp1', '/home/lucas/Desktop/MetNum/TP/metnum_tp1/src/tests/test1.in', '/home/lucas/Desktop/MetNum/TP/metnum_tp1/src/analytics/test_1/result_test1.out', '0'], returncode=0)"
      ]
     },
     "execution_count": 8,
     "metadata": {},
     "output_type": "execute_result"
    }
   ],
   "source": [
    "subprocess.run([\"./tp1\", src_path + \"/tests/test1.in\", \n",
    "                         src_path + \"/analytics/test_1/result_test1.out\", \n",
    "                           \"0\"], \n",
    "               cwd = src_path + \"/cpp\")"
   ]
  },
  {
   "cell_type": "code",
   "execution_count": null,
   "id": "4cadb111",
   "metadata": {},
   "outputs": [],
   "source": []
  }
 ],
 "metadata": {
  "kernelspec": {
   "display_name": "Python 3 (ipykernel)",
   "language": "python",
   "name": "python3"
  },
  "language_info": {
   "codemirror_mode": {
    "name": "ipython",
    "version": 3
   },
   "file_extension": ".py",
   "mimetype": "text/x-python",
   "name": "python",
   "nbconvert_exporter": "python",
   "pygments_lexer": "ipython3",
   "version": "3.8.10"
  }
 },
 "nbformat": 4,
 "nbformat_minor": 5
}
